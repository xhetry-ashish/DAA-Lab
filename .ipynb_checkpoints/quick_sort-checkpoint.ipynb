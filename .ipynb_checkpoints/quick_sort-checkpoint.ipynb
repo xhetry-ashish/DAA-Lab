{
 "cells": [
  {
   "cell_type": "code",
   "execution_count": 1,
   "metadata": {},
   "outputs": [
    {
     "name": "stdout",
     "output_type": "stream",
     "text": [
      "Enter how many numbers to be sorted:5\n",
      "9\n",
      "8\n",
      "7\n",
      "4\n",
      "2\n",
      "Sorted array is:\n",
      "2\n",
      "4\n",
      "7\n",
      "8\n",
      "9\n"
     ]
    }
   ],
   "source": [
    "# Python program for implementation of Quicksort Sort \n",
    "\n",
    "def partition(arr, low, high): \n",
    "\ti = (low-1)\t\t # index of smaller element \n",
    "\tpivot = arr[high]\t # pivot \n",
    "\n",
    "\tfor j in range(low, high): \n",
    "\n",
    "\t\t# If current element is smaller than or \n",
    "\t\t# equal to pivot \n",
    "\t\tif arr[j] <= pivot: \n",
    "\n",
    "\t\t\t# increment index of smaller element \n",
    "\t\t\ti = i+1\n",
    "\t\t\tarr[i], arr[j] = arr[j], arr[i] \n",
    "\n",
    "\tarr[i+1], arr[high] = arr[high], arr[i+1] \n",
    "\treturn (i+1) \n",
    "\n",
    "# The main function that implements QuickSort \n",
    "# arr[] --> Array to be sorted, \n",
    "# low --> Starting index, \n",
    "# high --> Ending index \n",
    "\n",
    "# Function to do Quick sort \n",
    "\n",
    "\n",
    "def quickSort(arr, low, high): \n",
    "\tif len(arr) == 1: \n",
    "\t\treturn arr \n",
    "\tif low < high: \n",
    "\n",
    "\t\t# pi is partitioning index, arr[p] is now \n",
    "\t\t# at right place \n",
    "\t\tpi = partition(arr, low, high) \n",
    "\n",
    "\t\t# Separately sort elements before \n",
    "\t\t# partition and after partition \n",
    "\t\tquickSort(arr, low, pi-1) \n",
    "\t\tquickSort(arr, pi+1, high) \n",
    "\n",
    "\n",
    "# Driver code to test above \n",
    "arr = []\n",
    "n = int(input(\"Enter how many numbers to be sorted:\"))\n",
    "for i in range(n):\n",
    "    arr.append(int(input())) \n",
    "quickSort(arr, 0, n-1) \n",
    "print(\"Sorted array is:\") \n",
    "for i in range(n): \n",
    "\tprint(\"%d\" % arr[i]), \n",
    "\n",
    "# This code is contributed by Mohit Kumra \n",
    "#This code in improved by https://github.com/anushkrishnav \n"
   ]
  },
  {
   "cell_type": "code",
   "execution_count": null,
   "metadata": {},
   "outputs": [],
   "source": []
  }
 ],
 "metadata": {
  "kernelspec": {
   "display_name": "Python 3",
   "language": "python",
   "name": "python3"
  },
  "language_info": {
   "codemirror_mode": {
    "name": "ipython",
    "version": 3
   },
   "file_extension": ".py",
   "mimetype": "text/x-python",
   "name": "python",
   "nbconvert_exporter": "python",
   "pygments_lexer": "ipython3",
   "version": "3.7.4"
  }
 },
 "nbformat": 4,
 "nbformat_minor": 2
}
