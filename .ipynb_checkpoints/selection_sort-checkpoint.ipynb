{
 "cells": [
  {
   "cell_type": "code",
   "execution_count": 2,
   "metadata": {},
   "outputs": [
    {
     "name": "stdout",
     "output_type": "stream",
     "text": [
      "Enter how many numbers to be sorted:5\n",
      "34\n",
      "21\n",
      "56\n",
      "12\n",
      "11\n",
      "Sorted array\n",
      "11\n",
      "12\n",
      "21\n",
      "34\n",
      "56\n"
     ]
    }
   ],
   "source": [
    "# Python program for implementation of Selection Sort  \n",
    "\n",
    "# Traverse through all array elements \n",
    "def selectionsort(A,n):\n",
    "    for i in range(n): \n",
    "    \n",
    "        # Find the minimum element in remaining unsorted array \n",
    "\n",
    "        min_idx = i \n",
    "        for j in range(i+1, n): \n",
    "            if A[min_idx] > A[j]: \n",
    "                min_idx = j \n",
    "            # Swap the found minimum element with the first element\n",
    "         \n",
    "        A[i], A[min_idx] = A[min_idx], A[i] \n",
    "\n",
    "# Driver code to test above \n",
    "A= []\n",
    "n = int(input(\"Enter how many numbers to be sorted:\"))\n",
    "for i in range(n):\n",
    "    A.append(int(input()))\n",
    "    \n",
    "selectionsort(A,n)    \n",
    "print (\"Sorted array\") \n",
    "for i in range(n): \n",
    "    print(\"%d\" %A[i]), \n"
   ]
  },
  {
   "cell_type": "code",
   "execution_count": null,
   "metadata": {},
   "outputs": [],
   "source": []
  }
 ],
 "metadata": {
  "kernelspec": {
   "display_name": "Python 3",
   "language": "python",
   "name": "python3"
  },
  "language_info": {
   "codemirror_mode": {
    "name": "ipython",
    "version": 3
   },
   "file_extension": ".py",
   "mimetype": "text/x-python",
   "name": "python",
   "nbconvert_exporter": "python",
   "pygments_lexer": "ipython3",
   "version": "3.7.4"
  }
 },
 "nbformat": 4,
 "nbformat_minor": 2
}
