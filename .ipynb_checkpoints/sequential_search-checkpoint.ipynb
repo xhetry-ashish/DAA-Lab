{
 "cells": [
  {
   "cell_type": "code",
   "execution_count": 10,
   "metadata": {},
   "outputs": [
    {
     "name": "stdout",
     "output_type": "stream",
     "text": [
      "Enter how many numbers to be sorted:5\n",
      "56\n",
      "34\n",
      "78\n",
      "12\n",
      "45\n",
      "Enter a number to search:12\n",
      "12 is found at location 4\n"
     ]
    }
   ],
   "source": [
    "def Sequential_Search(dlist, item):\n",
    "\n",
    "    pos = 0\n",
    "    found = 0\n",
    "    for pos in range(len(dlist)):\n",
    "        if dlist[pos]==item:\n",
    "            found=1\n",
    "            break\n",
    "            \n",
    "        else:\n",
    "            pos = pos + 1\n",
    "    \n",
    "    return found, pos\n",
    "\n",
    "dlist= []\n",
    "n = int(input(\"Enter how many numbers to be sorted:\"))\n",
    "for i in range(n):\n",
    "    dlist.append(int(input()))\n",
    "    \n",
    "item = int(input(\"Enter a number to search:\"))\n",
    "c,d = Sequential_Search(dlist, item)\n",
    "\n",
    "if c==1:\n",
    "    print(item, \"is found at location\",d+1)\n",
    "else:\n",
    "    print(item, \"is not found...\")\n",
    "    "
   ]
  },
  {
   "cell_type": "code",
   "execution_count": null,
   "metadata": {},
   "outputs": [],
   "source": []
  }
 ],
 "metadata": {
  "kernelspec": {
   "display_name": "Python 3",
   "language": "python",
   "name": "python3"
  },
  "language_info": {
   "codemirror_mode": {
    "name": "ipython",
    "version": 3
   },
   "file_extension": ".py",
   "mimetype": "text/x-python",
   "name": "python",
   "nbconvert_exporter": "python",
   "pygments_lexer": "ipython3",
   "version": "3.7.4"
  }
 },
 "nbformat": 4,
 "nbformat_minor": 2
}
